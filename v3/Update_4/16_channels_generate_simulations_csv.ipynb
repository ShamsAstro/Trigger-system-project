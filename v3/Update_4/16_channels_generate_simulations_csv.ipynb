{
 "cells": [
  {
   "cell_type": "code",
   "execution_count": 3,
   "metadata": {
    "collapsed": true,
    "ExecuteTime": {
     "start_time": "2024-06-28T15:39:15.677151Z",
     "end_time": "2024-06-28T15:39:15.746489Z"
    }
   },
   "outputs": [
    {
     "name": "stdout",
     "output_type": "stream",
     "text": [
      "Done!\n"
     ]
    }
   ],
   "source": [
    "import matplotlib.pyplot as plt\n",
    "import numpy as np\n",
    "import time\n",
    "import math\n",
    "import matplotlib.pyplot as plt\n",
    "import pandas as pd\n",
    "print(\"Done!\")"
   ]
  },
  {
   "cell_type": "code",
   "execution_count": 4,
   "outputs": [
    {
     "name": "stdout",
     "output_type": "stream",
     "text": [
      "Done!\n"
     ]
    }
   ],
   "source": [
    "\"\"\"Classes \"\"\"\n",
    "class rand_memory: #class for generating random numbers used as the amplitude of a signal\n",
    "    def __init__(self, value=0):\n",
    "        self.value=np.random.randint(low_amplitude, high_amplitude)\n",
    "\n",
    "\n",
    "class markers: #this class is for counters used in generating the pulses\n",
    "    def __init__(self, value=0):\n",
    "        self.value=0\n",
    "    def plus_one(self):\n",
    "        self.value +=1\n",
    "\n",
    "\n",
    "class conditions(): #This is used for knowing if a pulse is happening and the code will keep generating the pulse if the value is True\n",
    "    def __init__(self, state=False):\n",
    "        self.state=False\n",
    "    def set_true(self):\n",
    "        self.state=True\n",
    "    def set_false(self):\n",
    "        self.state=False\n",
    "\n",
    "print(\"Done!\")"
   ],
   "metadata": {
    "collapsed": false,
    "ExecuteTime": {
     "start_time": "2024-06-28T15:39:15.697005Z",
     "end_time": "2024-06-28T15:39:15.809133Z"
    }
   }
  },
  {
   "cell_type": "code",
   "execution_count": 5,
   "outputs": [
    {
     "name": "stdout",
     "output_type": "stream",
     "text": [
      "Done!\n"
     ]
    }
   ],
   "source": [
    "\"\"\"Function \"\"\"\n",
    "#not used here\n",
    "def display_stats(signal, t_axis, threshold, plot_size):\n",
    "    if len(t_axis)%plot_size==0:\n",
    "\n",
    "        print(\"plot n°: \", t_axis[-1] // plot_size)\n",
    "        print(\"--------------------------------------------------------\")\n",
    "\n",
    "        plt.plot(t_axis[-plot_size:], signal[-plot_size:])\n",
    "        plt.xlabel(\"Time (ns)\")\n",
    "        plt.ylabel(\"Voltage (mV)\")\n",
    "        plt.axhline(y=threshold, color='r', lw=1, linestyle='--')\n",
    "        plt.grid(True, lw=0.5)\n",
    "        plt.title(\"Random signal and random pulses\")\n",
    "        plt.show()\n",
    "\n",
    "def display_n_plots(t_axis,signals,n,threshold,plot_size):\n",
    "    if t_axis[-1]%plot_size==0:\n",
    "        print(\"plot n°: \", t_axis[-1] // plot_size)\n",
    "        print(\"--------------------------------------------------------\")\n",
    "        fig, axs = plt.subplots(4, 4, figsize=(12, 12))  # Adjust the figure size\n",
    "        y_limits = (-250, 250)\n",
    "        for i, ax in enumerate(axs.flat):\n",
    "            ax.plot(t_axis[-plot_size:], signals[i][-plot_size:], label=f'Channel {i + 1}')\n",
    "            ax.set_title(f'Channel {i + 1}', fontsize=10)\n",
    "            ax.set_ylim(y_limits)\n",
    "            ax.grid(True, lw=0.5)\n",
    "            ax.label_outer()  # Only show outer labels to avoid redundancy\n",
    "        fig.suptitle('16 Controlled channels', fontsize=22)  # Add a super title\n",
    "        plt.tight_layout(rect=[0, 0, 1, 0.96])  # Adjust layout to fit super title\n",
    "\n",
    "\n",
    "        #plt.savefig(f'Figure {int(t_axis[-1] //200)+1} w 16 Controlled channels')\n",
    "        plt.show()\n",
    "\n",
    "\n",
    "def smart_append(t_axis,array,new_point,max_size):\n",
    "    if t_axis[-1]<max_size:\n",
    "        array=np.append(array,new_point)\n",
    "    else:\n",
    "        array=np.append(array[1:], new_point)\n",
    "    return array\n",
    "\n",
    "\n",
    "def create_n_signals(n, likelihood, signal_limit,plot_size,conds, wave_counts ,amps ):\n",
    "\n",
    "    pulses=[]\n",
    "    for i in range(n):\n",
    "        if conds[i].state==False:\n",
    "            sig=0\n",
    "            wave_counts[i].__init__()\n",
    "            if np.random.randint(likelihood*plot_size)==1:\n",
    "                conds[i].set_true()\n",
    "\n",
    "        else:\n",
    "            sig=burst_waveform(wave_counts[i].value, amps[i].value)\n",
    "            #sig=amps[i].value\n",
    "            wave_counts[i].plus_one()\n",
    "            if wave_counts[i].value>signal_limit:\n",
    "                conds[i].set_false()\n",
    "                amps[i].__init__()\n",
    "\n",
    "        pulses.append(sig)\n",
    "    return np.sum(pulses)\n",
    "\n",
    "def random_generator( mean, std_dev, conds,wave_counts, amps, likelihood,n, signal_limit):\n",
    "\n",
    "    rand_point = np.random.normal(loc=mean, scale=std_dev) #this generates the background noise\n",
    "    #rand_point=0\n",
    "\n",
    "    signals=create_n_signals(n, likelihood, signal_limit,plot_size,conds, wave_counts, amps) #this makes sure that the simulated signal is random and is able to have multiple superposed pulses.\n",
    "\n",
    "    next_point_w_noise= rand_point + signals\n",
    "    next_point_no_noise=  signals\n",
    "\n",
    "    return next_point_w_noise, next_point_no_noise\n",
    "\n",
    "print(\"Done!\")"
   ],
   "metadata": {
    "collapsed": false,
    "ExecuteTime": {
     "start_time": "2024-06-28T15:39:15.720711Z",
     "end_time": "2024-06-28T15:39:15.828880Z"
    }
   }
  },
  {
   "cell_type": "code",
   "execution_count": 6,
   "outputs": [
    {
     "name": "stdout",
     "output_type": "stream",
     "text": [
      "Done!\n"
     ]
    }
   ],
   "source": [
    "\"\"\" Different waveforms \"\"\"\n",
    "def burst_waveform( time, amp ):\n",
    "    A = amp\n",
    "    B = 10.0\n",
    "    C = 10.0\n",
    "    omega = 1.2\n",
    "    k = 1.0\n",
    "\n",
    "    cosine_term   = A * math.cos( omega * time )      # oscillation\n",
    "    heaviside_term = 1 / (1 + math.exp( -2*k*time ) ) # turn-on (heaviside step function parameterized)\n",
    "    exponent_term = math.exp( -(time - B)/C )         # attenuation\n",
    "\n",
    "    voltage = cosine_term * heaviside_term * exponent_term\n",
    "    return voltage\n",
    "\n",
    "print(\"Done!\")"
   ],
   "metadata": {
    "collapsed": false,
    "ExecuteTime": {
     "start_time": "2024-06-28T15:39:15.720711Z",
     "end_time": "2024-06-28T15:39:15.828880Z"
    }
   }
  },
  {
   "cell_type": "code",
   "execution_count": 7,
   "outputs": [
    {
     "name": "stdout",
     "output_type": "stream",
     "text": [
      "Done!\n"
     ]
    }
   ],
   "source": [
    "\"\"\"Variables and parameters \"\"\"\n",
    "#these are values used to generate noise\n",
    "mean = 0\n",
    "std_dev = 30\n",
    "\n",
    "threshold = 75 #trigger threshold --not used here\n",
    "delay_period= 30 #the delay of time to wait when a threshold is exceeded -- not used here\n",
    "low_amplitude, high_amplitude= lo,hi = 50, 220 # the upper limit and lower limit of the amplitudes of the random pulses\n",
    "\n",
    "\n",
    "\n",
    "likelihood= 2 #probability of occurance of random pulses (Higher makes it less probable, n is around 1 occurance per n cycles)\n",
    "plot_size= 200 #Data points in one plot\n",
    "max_size= 1000 #the maximum number of points in the signal arrays kept at any time (this includes t_axis) (to protect the RAM)\n",
    "n_of_plots=16 #number of channels and plots\n",
    "signal_limit=50 #the length of each generated signal/ pulse if less than 30 it would clearly cutoff the signals\n",
    "n_signals= 3 #the maxiumum number of super-imposed signals in each channel\n",
    "\n",
    "print(\"Done!\")\n"
   ],
   "metadata": {
    "collapsed": false,
    "ExecuteTime": {
     "start_time": "2024-06-28T15:39:15.746489Z",
     "end_time": "2024-06-28T15:39:15.828880Z"
    }
   }
  },
  {
   "cell_type": "code",
   "execution_count": 8,
   "outputs": [
    {
     "name": "stdout",
     "output_type": "stream",
     "text": [
      "Done!\n"
     ]
    }
   ],
   "source": [
    "\"\"\"Creating empty arrays and defining lists \"\"\"\n",
    "\n",
    "t_axis = np.array([]) #This is the general time axis that is common for all channels\n",
    "amps, wave_counts, conds= [], [], []  #the conditions that help track the progression of the signals using the classes\n",
    "\n",
    "for i in range(n_of_plots):\n",
    "    amps.append([rand_memory(),rand_memory(),rand_memory()])\n",
    "    wave_counts.append([markers(),markers(),markers()])\n",
    "    conds.append([conditions(),conditions(),conditions()])\n",
    "\n",
    "\n",
    "signals=[np.array([]) for i in range (n_of_plots)] #generate empty arrays for the different channels\n",
    "pure_pulses=[np.array([]) for i in range (n_of_plots)] #generate empty arrays for the pulse signals for all channels\n",
    "\n",
    "channel_names = [f'channel_{i+1}' for i in range(n_of_plots)]\n",
    "#print(channel_names)\n",
    "channel_names.insert(0,'t_axis')\n",
    "\n",
    "print(\"Done!\")\n"
   ],
   "metadata": {
    "collapsed": false,
    "ExecuteTime": {
     "start_time": "2024-06-28T15:39:15.765718Z",
     "end_time": "2024-06-28T15:39:15.828880Z"
    }
   }
  },
  {
   "cell_type": "code",
   "execution_count": 12,
   "outputs": [
    {
     "name": "stdout",
     "output_type": "stream",
     "text": [
      "Done!\n"
     ]
    }
   ],
   "source": [
    "\"\"\"Compiler \"\"\"\n",
    "\n",
    "#while True:\n",
    "#for i in range(1+ plot_size*100):\n",
    "for i in range(64000): #choosing the number of plots to plot, replace by while True to keep going until stopped\n",
    "    t_axis=np.append(t_axis, i) #adds +1 to time each cycle, and limits the len(t_axis) to max_size\n",
    "\n",
    "    for n in range(n_of_plots): #this generates signals for the different channels\n",
    "        Information = random_generator(mean, std_dev, conds[n], wave_counts[n], amps[n], likelihood, n_signals, signal_limit)\n",
    "\n",
    "        signals[n]=np.append(signals[n],Information[0])\n",
    "        pure_pulses[n] = np.append(pure_pulses[n],Information[1])\n",
    "\n",
    "    time.sleep(0.0000001) #delay condition to help prevent oveloading the processor/ not sure how helpful this is\n",
    "\n",
    "print(\"Done!\")"
   ],
   "metadata": {
    "collapsed": false,
    "ExecuteTime": {
     "start_time": "2024-06-28T15:53:10.189976Z",
     "end_time": "2024-06-28T16:00:36.278991Z"
    }
   }
  },
  {
   "cell_type": "code",
   "execution_count": 13,
   "outputs": [
    {
     "name": "stdout",
     "output_type": "stream",
     "text": [
      "Done!\n"
     ]
    }
   ],
   "source": [
    "\"\"\"Create csv\"\"\"\n",
    "data_signals=[t_axis]\n",
    "for i in range(n_of_plots):\n",
    "    data_signals.append(signals[i])\n",
    "\n",
    "data_just_pulses=[t_axis]\n",
    "for i in range(n_of_plots):\n",
    "    data_just_pulses.append(pure_pulses[i])\n",
    "\n",
    "pdsignals= pd.DataFrame(np.column_stack(data_signals),columns=[channel_names])\n",
    "pdsignals.to_pickle('Test_data_High_Amplitude.pkl')\n",
    "\n",
    "pdpulses= pd.DataFrame(np.column_stack(data_just_pulses),columns=[channel_names])\n",
    "pdpulses.to_pickle('Test_real_High_Amplitude.pkl')\n",
    "\n",
    "print(\"Done!\")\n"
   ],
   "metadata": {
    "collapsed": false,
    "ExecuteTime": {
     "start_time": "2024-06-28T16:00:43.737529Z",
     "end_time": "2024-06-28T16:00:44.316612Z"
    }
   }
  },
  {
   "cell_type": "code",
   "execution_count": null,
   "outputs": [],
   "source": [],
   "metadata": {
    "collapsed": false,
    "ExecuteTime": {
     "start_time": "2024-06-26T16:37:09.462613Z",
     "end_time": "2024-06-26T16:37:09.468614Z"
    }
   }
  },
  {
   "cell_type": "markdown",
   "source": [],
   "metadata": {
    "collapsed": false
   }
  },
  {
   "cell_type": "code",
   "execution_count": null,
   "outputs": [],
   "source": [],
   "metadata": {
    "collapsed": false,
    "ExecuteTime": {
     "start_time": "2024-06-26T16:37:09.474624Z",
     "end_time": "2024-06-26T16:37:09.474624Z"
    }
   }
  },
  {
   "cell_type": "markdown",
   "source": [],
   "metadata": {
    "collapsed": false
   }
  },
  {
   "cell_type": "code",
   "execution_count": null,
   "outputs": [],
   "source": [],
   "metadata": {
    "collapsed": false,
    "ExecuteTime": {
     "start_time": "2024-06-26T16:37:09.477607Z",
     "end_time": "2024-06-26T16:37:09.509608Z"
    }
   }
  },
  {
   "cell_type": "code",
   "execution_count": null,
   "outputs": [],
   "source": [],
   "metadata": {
    "collapsed": false,
    "ExecuteTime": {
     "start_time": "2024-06-26T16:37:09.483608Z",
     "end_time": "2024-06-26T16:37:09.509608Z"
    }
   }
  }
 ],
 "metadata": {
  "kernelspec": {
   "display_name": "Python 3",
   "language": "python",
   "name": "python3"
  },
  "language_info": {
   "codemirror_mode": {
    "name": "ipython",
    "version": 2
   },
   "file_extension": ".py",
   "mimetype": "text/x-python",
   "name": "python",
   "nbconvert_exporter": "python",
   "pygments_lexer": "ipython2",
   "version": "2.7.6"
  }
 },
 "nbformat": 4,
 "nbformat_minor": 0
}
