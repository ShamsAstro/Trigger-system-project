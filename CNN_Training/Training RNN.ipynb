{
 "cells": [
  {
   "cell_type": "code",
   "execution_count": 2,
   "metadata": {
    "collapsed": true,
    "ExecuteTime": {
     "start_time": "2024-06-25T23:26:05.532611Z",
     "end_time": "2024-06-25T23:26:12.761252Z"
    }
   },
   "outputs": [
    {
     "name": "stderr",
     "output_type": "stream",
     "text": [
      "2024-06-25 23:26:08.040884: I external/local_tsl/tsl/cuda/cudart_stub.cc:32] Could not find cuda drivers on your machine, GPU will not be used.\n",
      "2024-06-25 23:26:08.044588: I external/local_tsl/tsl/cuda/cudart_stub.cc:32] Could not find cuda drivers on your machine, GPU will not be used.\n",
      "2024-06-25 23:26:08.100987: I tensorflow/core/platform/cpu_feature_guard.cc:210] This TensorFlow binary is optimized to use available CPU instructions in performance-critical operations.\n",
      "To enable the following instructions: AVX2 FMA, in other operations, rebuild TensorFlow with the appropriate compiler flags.\n",
      "2024-06-25 23:26:10.064508: W tensorflow/compiler/tf2tensorrt/utils/py_utils.cc:38] TF-TRT Warning: Could not find TensorRT\n"
     ]
    },
    {
     "name": "stdout",
     "output_type": "stream",
     "text": [
      "Done!\n"
     ]
    }
   ],
   "source": [
    "import matplotlib.pyplot as plt\n",
    "import numpy as np\n",
    "import time\n",
    "import math\n",
    "import matplotlib.pyplot as plt\n",
    "import pandas as pd\n",
    "from tensorflow.keras.models import Sequential\n",
    "from tensorflow.keras.layers import SimpleRNN, Dense\n",
    "from sklearn.model_selection import train_test_split\n",
    "\n",
    "print(\"Done!\")\n"
   ]
  },
  {
   "cell_type": "code",
   "execution_count": 6,
   "outputs": [
    {
     "name": "stdout",
     "output_type": "stream",
     "text": [
      "Done!\n"
     ]
    }
   ],
   "source": [
    "training_data=pd.read_csv(\"training_data_0.csv\")\n",
    "real_data=pd.read_csv(\"real_data_0.csv\")\n",
    "\n",
    "noisy_test=pd.read_csv(\"training_data_test.csv\")\n",
    "real_test=pd.read_csv(\"real_data_test.csv\")\n",
    "\n",
    "print(\"Done!\")"
   ],
   "metadata": {
    "collapsed": false,
    "ExecuteTime": {
     "start_time": "2024-06-24T17:31:20.842732Z",
     "end_time": "2024-06-24T17:31:21.327130Z"
    }
   }
  },
  {
   "cell_type": "code",
   "execution_count": 7,
   "outputs": [
    {
     "name": "stdout",
     "output_type": "stream",
     "text": [
      "Done!\n"
     ]
    }
   ],
   "source": [
    "all_trains=[]\n",
    "all_real=[]\n",
    "\n",
    "for i in range(16):\n",
    "    exec(f'all_trains.append(training_data[\"channel_{i+1}\"])')\n",
    "\n",
    "for i in range(16):\n",
    "    exec(f'all_real.append(real_data[\"channel_{i+1}\"])')\n",
    "\n",
    "all_trains=np.concatenate(all_trains)\n",
    "all_real=np.concatenate(all_real)\n",
    "print(\"Done!\")"
   ],
   "metadata": {
    "collapsed": false,
    "ExecuteTime": {
     "start_time": "2024-06-24T17:31:22.181353Z",
     "end_time": "2024-06-24T17:31:22.228508Z"
    }
   }
  },
  {
   "cell_type": "code",
   "execution_count": 8,
   "outputs": [
    {
     "name": "stdout",
     "output_type": "stream",
     "text": [
      "Done!\n"
     ]
    }
   ],
   "source": [
    "all_trains_test=[]\n",
    "all_real_test=[]\n",
    "\n",
    "for i in range(16):\n",
    "    exec(f'all_trains_test.append(noisy_test[\"channel_{i+1}\"])')\n",
    "\n",
    "for i in range(16):\n",
    "    exec(f'all_real_test.append(real_test[\"channel_{i+1}\"])')\n",
    "\n",
    "all_trains_test=np.concatenate(all_trains_test)\n",
    "all_real_test=np.concatenate(all_real_test)\n",
    "print(\"Done!\")"
   ],
   "metadata": {
    "collapsed": false,
    "ExecuteTime": {
     "start_time": "2024-06-24T17:31:23.486230Z",
     "end_time": "2024-06-24T17:31:23.549913Z"
    }
   }
  },
  {
   "cell_type": "code",
   "execution_count": 8,
   "outputs": [],
   "source": [],
   "metadata": {
    "collapsed": false,
    "ExecuteTime": {
     "start_time": "2024-06-24T17:31:24.623830Z",
     "end_time": "2024-06-24T17:31:24.623830Z"
    }
   }
  },
  {
   "cell_type": "code",
   "execution_count": 9,
   "outputs": [
    {
     "name": "stdout",
     "output_type": "stream",
     "text": [
      "Done!\n"
     ]
    }
   ],
   "source": [
    "def create_sequences(data, seq_length):\n",
    "    sequences = []\n",
    "    for i in range(len(data) - seq_length):\n",
    "        sequences.append(data[i:i + seq_length])\n",
    "    return np.array(sequences)\n",
    "print(\"Done!\")"
   ],
   "metadata": {
    "collapsed": false,
    "ExecuteTime": {
     "start_time": "2024-06-24T17:31:25.127844Z",
     "end_time": "2024-06-24T17:31:25.190338Z"
    }
   }
  },
  {
   "cell_type": "code",
   "execution_count": 10,
   "outputs": [
    {
     "name": "stdout",
     "output_type": "stream",
     "text": [
      "Done!\n"
     ]
    }
   ],
   "source": [
    "seq_length = 100  # Length of the sequence\n",
    "noisy = create_sequences(all_trains, seq_length)\n",
    "real= create_sequences(all_real, seq_length)\n",
    "\n",
    "noisy = noisy[..., np.newaxis]\n",
    "real = real[..., np.newaxis]\n",
    "\n",
    "X_train, X_test, y_train, y_test = train_test_split(noisy, real, test_size=0.2, random_state=42)\n",
    "print(\"Done!\")"
   ],
   "metadata": {
    "collapsed": false,
    "ExecuteTime": {
     "start_time": "2024-06-24T17:31:26.411854Z",
     "end_time": "2024-06-24T17:31:28.014205Z"
    }
   }
  },
  {
   "cell_type": "code",
   "execution_count": null,
   "outputs": [],
   "source": [
    "# Step 3: Build and Train the RNN\n",
    "model = Sequential([\n",
    "    SimpleRNN(50, activation='relu', input_shape=(seq_length, 1)),  # Adjust RNN shape as needed\n",
    "    Dense(1)                                                        # Output layer\n",
    "])\n",
    "\n",
    "model.compile(optimizer='adam', loss='mse')  # Use appropriate loss function and optimizer\n",
    "model.summary()\n",
    "\n",
    "# Train the model\n",
    "history = model.fit(X_train, y_train, epochs=4, validation_data=(X_test, y_test))  # Adjust epochs as needed\n",
    "model.save(\"model_1.keras\")\n",
    "print(\"Done!\")\n"
   ],
   "metadata": {
    "collapsed": false,
    "ExecuteTime": {
     "start_time": "2024-06-24T17:52:57.821119Z",
     "end_time": "2024-06-24T18:13:07.450025Z"
    }
   }
  },
  {
   "cell_type": "code",
   "execution_count": 13,
   "outputs": [
    {
     "name": "stdout",
     "output_type": "stream",
     "text": [
      "\u001B[1m14997/14997\u001B[0m \u001B[32m━━━━━━━━━━━━━━━━━━━━\u001B[0m\u001B[37m\u001B[0m \u001B[1m115s\u001B[0m 8ms/step\n",
      "Done!\n"
     ]
    }
   ],
   "source": [
    "# Step 4: Evaluate and Visualize the Results\n",
    "# Generate clean and noisy test waveforms\n",
    "clean_test_waveform = all_real\n",
    "noisy_test_waveform = all_trains\n",
    "X_testwaveform = create_sequences(noisy_test_waveform, seq_length)\n",
    "X_testwaveform= X_testwaveform[..., np.newaxis]\n",
    "\n",
    "cleaned_test_waveform = model.predict(X_testwaveform)\n",
    "\n",
    "# Flatten the cleaned waveform\n",
    "cleaned_test_waveform = cleaned_test_waveform.flatten()\n",
    "\n",
    "print(\"Done!\")"
   ],
   "metadata": {
    "collapsed": false,
    "ExecuteTime": {
     "start_time": "2024-06-24T18:29:26.949328Z",
     "end_time": "2024-06-24T18:31:30.118690Z"
    }
   }
  },
  {
   "cell_type": "code",
   "execution_count": 3,
   "outputs": [
    {
     "name": "stdout",
     "output_type": "stream",
     "text": [
      "1000\n"
     ]
    }
   ],
   "source": [
    "noisy_signals = np.random.randn(1000, 100, 16)\n",
    "print(len(noisy_signals))"
   ],
   "metadata": {
    "collapsed": false,
    "ExecuteTime": {
     "start_time": "2024-06-25T23:26:25.158109Z",
     "end_time": "2024-06-25T23:26:25.228104Z"
    }
   }
  },
  {
   "cell_type": "code",
   "execution_count": 14,
   "outputs": [
    {
     "data": {
      "text/plain": "<Figure size 1000x500 with 1 Axes>",
      "image/png": "[encoded data removed]"
     },
     "metadata": {},
     "output_type": "display_data"
    },
    {
     "name": "stdout",
     "output_type": "stream",
     "text": [
      "Done!\n"
     ]
    }
   ],
   "source": [
    "# Plotting the loss curves\n",
    "plt.figure(figsize=(10, 5))\n",
    "plt.plot(history.history['loss'], label='Training Loss')\n",
    "plt.plot(history.history['val_loss'], label='Validation Loss')\n",
    "plt.title('Loss Curves')\n",
    "plt.xlabel('Epochs')\n",
    "plt.ylabel('Loss')\n",
    "plt.legend()\n",
    "plt.grid(True)\n",
    "plt.show()\n",
    "print(\"Done!\")"
   ],
   "metadata": {
    "collapsed": false,
    "ExecuteTime": {
     "start_time": "2024-06-24T18:31:31.714855Z",
     "end_time": "2024-06-24T18:31:31.996091Z"
    }
   }
  },
  {
   "cell_type": "code",
   "execution_count": null,
   "outputs": [],
   "source": [],
   "metadata": {
    "collapsed": false
   }
  }
 ],
 "metadata": {
  "kernelspec": {
   "display_name": "Python 3",
   "language": "python",
   "name": "python3"
  },
  "language_info": {
   "codemirror_mode": {
    "name": "ipython",
    "version": 2
   },
   "file_extension": ".py",
   "mimetype": "text/x-python",
   "name": "python",
   "nbconvert_exporter": "python",
   "pygments_lexer": "ipython2",
   "version": "2.7.6"
  }
 },
 "nbformat": 4,
 "nbformat_minor": 0
}
