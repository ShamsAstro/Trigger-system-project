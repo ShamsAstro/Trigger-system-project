{
 "cells": [
  {
   "cell_type": "code",
   "execution_count": 3,
   "metadata": {
    "collapsed": true,
    "ExecuteTime": {
     "start_time": "2024-09-01T15:17:18.910815Z",
     "end_time": "2024-09-01T15:17:19.077811Z"
    }
   },
   "outputs": [
    {
     "name": "stdout",
     "output_type": "stream",
     "text": [
      "Done!\n"
     ]
    }
   ],
   "source": [
    "import numpy as np\n",
    "import pandas as pd\n",
    "import time\n",
    "import math\n",
    "import matplotlib.pyplot as plt\n",
    "print(\"Done!\")"
   ]
  },
  {
   "cell_type": "code",
   "execution_count": 4,
   "outputs": [
    {
     "name": "stdout",
     "output_type": "stream",
     "text": [
      "Done!\n"
     ]
    }
   ],
   "source": [
    "\"\"\"Variables and parameters \"\"\"\n",
    "#these are values used to generate noise\n",
    "NOISE_MEAN = 0\n",
    "NOISE_STD_DEV = 15\n",
    "\n",
    "COMMON_THRESHOLD = 3000 #trigger threshold --not used here\n",
    "DELAY_PERIOD= 70 #the delay of time to wait when a threshold is exceeded -- not used here\n",
    "LOW_AMPLITUDE, HIGH_AMPLITUDE = 35, 75 # the upper limit and lower limit of the amplitudes of the random pulses\n",
    "\n",
    "FREQUENCY= 3.2e9 #frequency in GHz\n",
    "\n",
    "ENVELOPE_RANGE=10\n",
    "PLOT_Y_LIMS= -150,150   #-100,1500\n",
    "PULSE_LIKELIHOOD= 2 #probability of occurance of random pulses (Higher makes it less probable, n is around 1 occurance per n cycles)\n",
    "PLOT_SIZE= 1000 #Data points in one plot\n",
    "max_size= 3000 #the maximum number of points in the signal arrays kept at any time (this includes t_axis) (to protect the RAM)\n",
    "n_of_plots=16 #number of channels and plots\n",
    "PULSE_DURATION=40 #the length of each generated signal/ pulse if less than 30 it would clearly cutoff the signals\n",
    "SUPERPOSITION_FACTOR= 3 #the maxiumum number of super-imposed signals in each channel\n",
    "\n",
    "print(\"Done!\")\n"
   ],
   "metadata": {
    "collapsed": false,
    "ExecuteTime": {
     "start_time": "2024-09-01T15:17:18.926819Z",
     "end_time": "2024-09-01T15:17:19.078810Z"
    }
   }
  },
  {
   "cell_type": "code",
   "execution_count": 5,
   "outputs": [
    {
     "name": "stdout",
     "output_type": "stream",
     "text": [
      "Done!\n"
     ]
    }
   ],
   "source": [
    "\"\"\"Classes \"\"\"\n",
    "class WaveAmplitude: #class for generating random numbers used as the amplitude of a signal\n",
    "    def __init__(self, value=0 ):\n",
    "        self.value=np.random.randint(LOW_AMPLITUDE, HIGH_AMPLITUDE)\n",
    "    def generate_new(self):\n",
    "        self.value=np.random.randint(LOW_AMPLITUDE, HIGH_AMPLITUDE)\n",
    "\n",
    "\n",
    "class WaveProgression: #this class is for counters used in generating the pulses\n",
    "    def __init__(self, value:int=0):\n",
    "        self.value=0\n",
    "    def plus_one(self):\n",
    "        self.value +=1\n",
    "    def reset(self):\n",
    "        self.value=0\n",
    "    def change(self,const):\n",
    "        self.value=const\n",
    "\n",
    "\n",
    "class PulseExistence(): #This is used for knowing if a pulse is happening and the code will keep generating the pulse if the value is True\n",
    "    def __init__(self, state:bool=False):\n",
    "        self.state=False\n",
    "    def set_true(self):\n",
    "        self.state=True\n",
    "    def set_false(self):\n",
    "        self.state=False\n",
    "\n",
    "print(\"Done!\")"
   ],
   "metadata": {
    "collapsed": false,
    "ExecuteTime": {
     "start_time": "2024-09-01T15:17:18.936810Z",
     "end_time": "2024-09-01T15:17:19.079810Z"
    }
   }
  },
  {
   "cell_type": "code",
   "execution_count": 6,
   "outputs": [
    {
     "name": "stdout",
     "output_type": "stream",
     "text": [
      "Done!\n"
     ]
    }
   ],
   "source": [
    "\"\"\"Function \"\"\"\n",
    "#not used here\n",
    "def display_stats(signal, t_axis, threshold, PLOT_SIZE):\n",
    "    if round(t_axis[-1]*FREQUENCY)%PLOT_SIZE==0:\n",
    "\n",
    "        print(\"plot n°: \", t_axis[-1] // PLOT_SIZE)\n",
    "        print(\"--------------------------------------------------------\")\n",
    "\n",
    "        plt.plot(t_axis[-PLOT_SIZE:], signal[-PLOT_SIZE:])\n",
    "        plt.xlabel(\"Time (ns)\")\n",
    "        plt.ylabel(\"Voltage (mV)\")\n",
    "        plt.axhline(y=threshold, color='r', lw=1, linestyle='--')\n",
    "        plt.grid(True, lw=0.5)\n",
    "        plt.title(\"Random signal and random pulses\")\n",
    "        plt.show()\n",
    "\n",
    "def display_n_plots(t_axis,signals,PLOT_SIZE):\n",
    "    if round(t_axis[-1]*FREQUENCY)%PLOT_SIZE==0:\n",
    "        print(\"plot n°: \", t_axis[-1] // PLOT_SIZE)\n",
    "        print(\"--------------------------------------------------------\")\n",
    "        fig, axs = plt.subplots(4, 4, figsize=(12, 12))  # Adjust the figure size\n",
    "        y_limits = (-250, 250)\n",
    "        for i, ax in enumerate(axs.flat):\n",
    "            ax.plot(t_axis[-PLOT_SIZE:], signals[i][-PLOT_SIZE:], label=f'Channel {i}')\n",
    "            ax.set_title(f'Channel {i + 1}', fontsize=10)\n",
    "            ax.set_ylim(y_limits)\n",
    "            ax.grid(True, lw=0.5)\n",
    "            ax.label_outer()  # Only show outer labels to avoid redundancy\n",
    "        fig.suptitle('16 Controlled channels', fontsize=22)  # Add a super title\n",
    "        plt.tight_layout(rect=[0, 0, 1, 0.96])  # Adjust layout to fit super title\n",
    "\n",
    "\n",
    "        #plt.savefig(f'Figure {int(t_axis[-1] //200)+1} w 16 Controlled channels')\n",
    "        plt.show()\n",
    "\n",
    "def display_n_plots_envelope(t_axis,signals,threshold,plot_size,envelopes,PLOT_Y_LIMS,envelope_range):\n",
    "    if round(t_axis[-1]*FREQUENCY)%plot_size==0:\n",
    "        print(\"plot n°: \", t_axis[-1] // plot_size)\n",
    "        print(\"--------------------------------------------------------\")\n",
    "        fig, axs = plt.subplots(4, 4, figsize=(12, 12))  # Adjust the figure size\n",
    "\n",
    "        upper_index=(envelope_range//2)\n",
    "\n",
    "        y_limits = (PLOT_Y_LIMS[0], PLOT_Y_LIMS[1])\n",
    "\n",
    "        if round(t_axis[-1]*FREQUENCY)//plot_size>1:\n",
    "            #all other plots\n",
    "            bound_1=envelope_range+upper_index\n",
    "            bound_2=envelope_range\n",
    "            t_bound=plot_size+upper_index\n",
    "        else:\n",
    "            #just for the first plot\n",
    "            bound_1= upper_index\n",
    "            bound_2=1\n",
    "            t_bound=plot_size\n",
    "\n",
    "        for i, ax in enumerate(axs.flat):\n",
    "            ax.plot(t_axis[-plot_size:], signals[i][-plot_size:], label=f'Channel {i + 1}')\n",
    "            ax.plot(t_axis[-t_bound:-bound_1], envelopes[i][-plot_size:-bound_2])\n",
    "\n",
    "            ax.set_title(f'Channel {i + 1}', fontsize=10)\n",
    "            ax.set_ylim(y_limits)\n",
    "            ax.axhline(y=threshold, lw=1,color='r', linestyle='--')\n",
    "            ax.grid(True, lw=0.5)\n",
    "            ax.label_outer()  # Only show outer labels to avoid redundancy\n",
    "        fig.suptitle('16 Controlled channels', fontsize=22)  # Add a super title\n",
    "        plt.tight_layout(rect=[0, 0, 1, 0.96])  # Adjust layout to fit super title\n",
    "\n",
    "        plt.savefig(f'Envelope_plots_{int(t_axis[-1] //200)+1}_16_channels')\n",
    "        plt.show()\n",
    "\n",
    "def smart_append(t_axis,array,new_point,max_size):\n",
    "    if round(t_axis[-1]*FREQUENCY)<=max_size:\n",
    "    #if len(t_axis)<=max_size:\n",
    "        array=np.append(array,new_point)\n",
    "    else:\n",
    "        array=np.append(array[1:], new_point)\n",
    "    return array\n",
    "\n",
    "\n",
    "def multiple_pulse_generator(SUPERPOSITION_FACTOR, PULSE_LIKELIHOOD, PULSE_DURATION, PLOT_SIZE,pulse_existence_local, wave_counts_local ,pulse_amplitudes_local ):\n",
    "\n",
    "    pulses=[]\n",
    "    for i in range(SUPERPOSITION_FACTOR):\n",
    "        if pulse_existence_local[i].state==False:\n",
    "            sig=0\n",
    "            wave_counts_local[i].reset()\n",
    "            if np.random.randint(PULSE_LIKELIHOOD*PLOT_SIZE)==1:\n",
    "                pulse_existence_local[i].set_true()\n",
    "\n",
    "        else:\n",
    "            sig=burst_waveform(wave_counts_local[i].value , pulse_amplitudes_local[i].value)\n",
    "\n",
    "            wave_counts_local[i].plus_one()\n",
    "            if wave_counts_local[i].value>PULSE_DURATION:\n",
    "                pulse_existence_local[i].set_false()\n",
    "                pulse_amplitudes_local[i].generate_new()\n",
    "\n",
    "        pulses.append(sig)\n",
    "    return np.sum(pulses)\n",
    "\n",
    "def signal_generator( noise_mode,real_noise_index,real_noise_data,NOISE_MEAN, NOISE_STD_DEV, pulse_existence,wave_counts, pulse_amplitudes, PULSE_LIKELIHOOD,SUPERPOSITION_FACTOR, PULSE_DURATION):\n",
    "\n",
    "    if noise_mode==\"random_noise\":\n",
    "        noise_value = np.random.normal(loc=NOISE_MEAN, scale=NOISE_STD_DEV) #this generates the background noise\n",
    "    elif noise_mode==\"zero_noise\":\n",
    "        noise_value = 0\n",
    "    elif noise_mode==\"real_noise\":\n",
    "        noise_value = real_noise_data[real_noise_index.value]\n",
    "        real_noise_index.plus_one()\n",
    "\n",
    "\n",
    "    pulses = multiple_pulse_generator(SUPERPOSITION_FACTOR, PULSE_LIKELIHOOD, PULSE_DURATION,PLOT_SIZE,pulse_existence, wave_counts, pulse_amplitudes) #this makes sure that the simulated signal is random and is able to have multiple superposed pulses.\n",
    "\n",
    "    next_point= noise_value + pulses\n",
    "\n",
    "    return next_point #**2\n",
    "\n",
    "def envelope(signal,ENVELOPE_RANGE ):\n",
    "    return np.sum(signal[-ENVELOPE_RANGE:])/ENVELOPE_RANGE\n",
    "\n",
    "print(\"Done!\")"
   ],
   "metadata": {
    "collapsed": false,
    "ExecuteTime": {
     "start_time": "2024-09-01T15:17:18.961816Z",
     "end_time": "2024-09-01T15:17:19.085824Z"
    }
   }
  },
  {
   "cell_type": "code",
   "execution_count": null,
   "outputs": [],
   "source": [],
   "metadata": {
    "collapsed": false
   }
  },
  {
   "cell_type": "code",
   "execution_count": 7,
   "outputs": [
    {
     "name": "stdout",
     "output_type": "stream",
     "text": [
      "Done!\n"
     ]
    }
   ],
   "source": [
    "\"\"\"This cell is for the L1 - L4 Trigger system\"\"\"\n",
    "\"\"\"I will be dealing with signals[n] (from 0 to 15) as a  list of 16 channels\"\"\"\n",
    "\n",
    "\"\"\" Channels 0 - 15: have special indices:\n",
    "0:3 -- S1_Vtop, S1_Vbot, S2_Vtop, S2_Vbot\n",
    "4:7 --  S3_Vtop, S3_Vbot, S4_Vtop, S4_Vbot\n",
    "8:11 -- S1_Htop, S1_Hbot, S2_Htop, S2_Hbot\n",
    "12:15 --  S3_Htop, S3_Hbot, S4_Htop, S4_Hbot\n",
    " \"\"\"\n",
    "\n",
    "\"\"\"For the list -L1- it has 15 binary values, the indices describe the L1 condition in that order\"\"\"\n",
    "\n",
    "\"\"\"The list -Groups- is used to record the indices for L2; it has coordinates for the groups in this order:\n",
    "S_1/2_|V|  ,  S_3/4_|V|  ,  S_1/2_|H|  ,  S_3/4_|H|\n",
    "\"\"\"\n",
    "\n",
    "\"\"\"The list -L2- is used to hold binary conditions of the states of the L2 triggers arranged in the same order as -Groups-\"\"\"\n",
    "\n",
    "\"\"\"The list -L2_level- holds information about the level of trigger of L2;\n",
    "level 1 if it is due to only one L1 trigger in the group;\n",
    "level 2 if 2 L1 triggers in the group;\n",
    "level 3 if 3 L1 triggers in the group\n",
    "This information is held as an int\n",
    "\"\"\"\n",
    "\n",
    "\"\"\"The list -L3- is used to hold binary conditions of the states of the L3 triggers in this order\n",
    "[0] is Vertical\n",
    "[1] is Horizontal\n",
    "\"\"\"\n",
    "\n",
    "\"\"\"L4 is just one condition for the state of the L4 trigger\"\"\"\n",
    "\n",
    "\"\"\"All The L1 states also have counters That make sure that the list keeps track of the progression and knows how long the window has been open\"\"\"\n",
    "\n",
    "L1=[]\n",
    "L1_counters=[]\n",
    "\n",
    "Groups=[[0,1,2,3],[4,5,6,7],[8,9,10,11],[12,13,14,15]]\n",
    "L2=[]\n",
    "L2_level=[]\n",
    "\n",
    "L3=[]\n",
    "\n",
    "L4=PulseExistence()\n",
    "\n",
    "#filling ip the lists with the classes\n",
    "for i in range(16): #for all 16 L1 triggers\n",
    "    L1.append(PulseExistence())\n",
    "    L1_counters.append(WaveProgression())\n",
    "\n",
    "for i in range(4): #for all 4 L2 triggers\n",
    "    L2.append(PulseExistence())\n",
    "    L2_level.append(WaveProgression())\n",
    "\n",
    "for i in range(2): #for all 2 L3 triggers\n",
    "    L3.append(PulseExistence())\n",
    "\n",
    "#L4 is defined above\n",
    "\n",
    "print(\"Done!\")"
   ],
   "metadata": {
    "collapsed": false,
    "ExecuteTime": {
     "start_time": "2024-09-01T15:17:18.992828Z",
     "end_time": "2024-09-01T15:17:19.085824Z"
    }
   }
  },
  {
   "cell_type": "code",
   "execution_count": 8,
   "outputs": [
    {
     "name": "stdout",
     "output_type": "stream",
     "text": [
      "Done!\n"
     ]
    }
   ],
   "source": [
    "\"\"\"L triggers and logic\"\"\"\n",
    "\"\"\"There are 4 main functions to set the states of the L triggers with no return/output\"\"\"\n",
    "#sets all 16 L1 states\n",
    "def L1_setter(signals, L1, L1_counter, threshold_list, DELAY_PERIOD):\n",
    "    for i in range (n_of_plots):\n",
    "        if signals[i][-1]>=threshold_list[i] and L1[i].state==False:\n",
    "            L1[i].set_true()\n",
    "        elif L1[i].state==True:\n",
    "            L1_counter[i].plus_one()\n",
    "            if L1_counter[i].value >= DELAY_PERIOD:\n",
    "                L1[i].set_false()\n",
    "                L1_counter[i].reset()\n",
    "\n",
    "#sets all 4 L2 states\n",
    "def L2_setter(L1, L2, L2_level, Groups):\n",
    "    for i, group in enumerate(Groups):\n",
    "        thresholds_exceeded=np.sum([L1[i].state for i in group])\n",
    "\n",
    "        if thresholds_exceeded>0:\n",
    "            L2[i].set_true()\n",
    "            L2_level[i].change(thresholds_exceeded)\n",
    "\n",
    "        else:\n",
    "            L2[i].set_false()\n",
    "            L2_level[i].reset()\n",
    "\n",
    "#sets all 2 L3 states\n",
    "def L3_setter(L3, L2_level):\n",
    "    \"\"\"This function sets the L3 states according to how many L2s have exceeded the 3 count\"\"\"\n",
    "    L3[0].set_true() if L2_level[0].value + L2_level[1].value >= 3 else L3[0].set_false() #This is for L3 V_pol\n",
    "    L3[1].set_true() if L2_level[2].value + L2_level[3].value >= 3 else L3[1].set_false() #This is for L3 H_pol\n",
    "\n",
    "def L4_setter(L3, L4):\n",
    "    L4.set_true() if L3[0].state or L3[1].state else L4.set_false()\n",
    "\n",
    "def L_Triggers(signals, L1, L1_counter, threshold, delay_period, L2, L2_level, L3, L4, Groups):\n",
    "    L1_setter(signals, L1, L1_counter, threshold, delay_period)\n",
    "    L2_setter(L1, L2, L2_level, Groups)\n",
    "    L3_setter(L3, L2_level)\n",
    "    L4_setter(L3, L4)\n",
    "\n",
    "    return [L.state for L in L2 + L3] + [L4.state]\n",
    "\n",
    "def L1_Triggers_returns(signals, L1, L1_counter, threshold, DELAY_PERIOD):\n",
    "    L1_setter(signals, L1, L1_counter, threshold_list, DELAY_PERIOD)\n",
    "    return [L.state for L in L1]\n",
    "\n",
    "\n",
    "print(\"Done!\")"
   ],
   "metadata": {
    "collapsed": false,
    "ExecuteTime": {
     "start_time": "2024-09-01T15:17:19.016815Z",
     "end_time": "2024-09-01T15:17:19.086811Z"
    }
   }
  },
  {
   "cell_type": "code",
   "execution_count": 9,
   "outputs": [],
   "source": [
    "\"\"\"This helps plot the states of the L_triggers\"\"\"\n",
    "\n",
    "L_name=[\"L2_0\",\"L2_1\",\"L2_2\",\"L2_3\",\"L3_Vpol\",\"L3_Hpol\",\"L4\"] #used in plots to show which L trigger is being displayed\n",
    "\n",
    "L1_names=[]\n",
    "\n",
    "L1_names=[f\"L1_{i}\" for i in range(n_of_plots)] #similar with this, just the names of the triggers to be diplayed\n",
    "\n",
    "\n",
    "#this function is for plotting the L triggers for\n",
    "# L1 if you use states=L_1_states and L_name= L1_names\n",
    "\n",
    "#or L2, L3 and L4 (four L2s, two L3s and one L4) 7 total\n",
    "# if states= L_2_3_4_states and L_name=L_name\n",
    "\n",
    "def plot_L_states(t_axis,states, L_name,PLOT_SIZE,mode,name):\n",
    "    if round(t_axis[-1]*FREQUENCY)%PLOT_SIZE==0:\n",
    "        print(\"plot n°: \", t_axis[-1] // PLOT_SIZE)\n",
    "        print(\"--------------------------------------------------------\")\n",
    "        y_limits = (-0.2, 1.3)\n",
    "        subplots=len(states)\n",
    "        fig, axs = plt.subplots(subplots, 1, figsize=(4, 12))  # Adjust the figure size\n",
    "        for i, ax in enumerate(axs.flat):\n",
    "            binary_values = [1 if x else 0 for x in states[i]]\n",
    "            ax.plot(t_axis[-PLOT_SIZE:], binary_values[-PLOT_SIZE:], label=L_name[i])\n",
    "            ax.set_title(L_name[i], fontsize=10)\n",
    "            ax.set_ylim(y_limits)\n",
    "            plt.legend()\n",
    "            ax.grid(True, lw=0.5)\n",
    "            ax.label_outer()  # Only show outer labels to avoid redundancy\n",
    "        fig.suptitle('16 Controlled channels', fontsize=22)  # Add a super title\n",
    "        plt.tight_layout(rect=[0, 0, 1, 0.96])  # Adjust layout to fit super title\n",
    "\n",
    "        if mode==\"save\":\n",
    "            filename=name+\"_\"+str(t_axis[-1]//PLOT_SIZE)\n",
    "            plt.savefig(filename)\n",
    "            plt.clf()\n",
    "        elif mode==\"show\":\n",
    "            plt.show()\n"
   ],
   "metadata": {
    "collapsed": false,
    "ExecuteTime": {
     "start_time": "2024-09-01T15:17:19.029810Z",
     "end_time": "2024-09-01T15:17:19.086811Z"
    }
   }
  },
  {
   "cell_type": "code",
   "execution_count": 10,
   "outputs": [],
   "source": [
    "\"\"\"Function to randomise noise selection\"\"\"\n",
    "\n",
    "def segment_and_shuffle(data, segment_size):\n",
    "    \"\"\"\n",
    "    Segments each channel in the data into chunks, shuffles the chunks,\n",
    "    and then reconstructs the channels while keeping the order within chunks.\n",
    "\n",
    "    Parameters:\n",
    "        data (np.ndarray): Input array of shape (channels, points).\n",
    "        segment_size (int): Size of each segment.\n",
    "\n",
    "    Returns:\n",
    "        np.ndarray: Array with shuffled segments, same shape as input.\n",
    "    \"\"\"\n",
    "    # Initialize the list to store shuffled data for each channel\n",
    "    shuffled_data = []\n",
    "\n",
    "    # Iterate over each channel\n",
    "    for channel in data:\n",
    "        # Segment the channel into chunks of size segment_size\n",
    "        segments = [channel[i:i + segment_size] for i in range(0, len(channel), segment_size)]\n",
    "\n",
    "        # Shuffle the order of segments\n",
    "        np.random.shuffle(segments)\n",
    "\n",
    "        # Flatten the list of shuffled segments back into a 1D array\n",
    "        shuffled_channel = np.concatenate(segments)\n",
    "\n",
    "        # Ensure that the reshaped channel has the same length as the original\n",
    "        if len(shuffled_channel) > len(channel):\n",
    "            shuffled_channel = shuffled_channel[:len(channel)]\n",
    "\n",
    "        # Append the shuffled channel to the list\n",
    "        shuffled_data.append(shuffled_channel)\n",
    "\n",
    "    # Convert the list back into a numpy array and return\n",
    "    return np.array(shuffled_data)\n"
   ],
   "metadata": {
    "collapsed": false,
    "ExecuteTime": {
     "start_time": "2024-09-01T15:17:19.041816Z",
     "end_time": "2024-09-01T15:17:19.086811Z"
    }
   }
  },
  {
   "cell_type": "code",
   "execution_count": 11,
   "outputs": [
    {
     "name": "stdout",
     "output_type": "stream",
     "text": [
      "Done!\n"
     ]
    }
   ],
   "source": [
    "\"\"\" Different waveforms \"\"\"\n",
    "def burst_waveform( time, amp ):\n",
    "    A = amp\n",
    "    B = 10.0\n",
    "    C = 10.0\n",
    "    omega = 1.2\n",
    "    k = 1.0\n",
    "\n",
    "    cosine_term   = A * math.cos( omega * time )      # oscillation\n",
    "    heaviside_term = 1 / (1 + math.exp( -2*k*time ) ) # turn-on (heaviside step function parameterized)\n",
    "    exponent_term = math.exp( -(time - B)/C )         # attenuation\n",
    "\n",
    "    voltage = cosine_term * heaviside_term * exponent_term\n",
    "    return voltage\n",
    "\n",
    "print(\"Done!\")"
   ],
   "metadata": {
    "collapsed": false,
    "ExecuteTime": {
     "start_time": "2024-09-01T15:17:19.052815Z",
     "end_time": "2024-09-01T15:17:19.086811Z"
    }
   }
  },
  {
   "cell_type": "code",
   "execution_count": 12,
   "outputs": [],
   "source": [
    "\"\"\"Graph parameters\"\"\"\n",
    "\n",
    "graph_state=\"show\" #you can either choose to save or graph the plots (choose \"show\" or \"save\" )\n",
    "graph_save_name=\"3hpoltst\" #The name of the plot files if saved (it will be followed by a number in order: 1, 2 ,3)\n",
    "graph_count=3   #number of plots to generate and graph\n",
    "noise_mode=\"real_noise\" #choose noise mode options: \"zero_noise\"  \"random_noise\" \"real_noise\" (from real ARA data)\n"
   ],
   "metadata": {
    "collapsed": false,
    "ExecuteTime": {
     "start_time": "2024-09-01T15:17:19.068809Z",
     "end_time": "2024-09-01T15:17:19.087809Z"
    }
   }
  },
  {
   "cell_type": "code",
   "execution_count": 13,
   "outputs": [],
   "source": [
    "\"\"\"Real data import module\"\"\"\n",
    "\n",
    "data=pd.read_pickle(\"noise_data1.pkl\")\n",
    "data=np.array(data)\n",
    "data=np.transpose(data) #Now the data is in the preferred shape\n",
    "\n",
    "noise_ara_data=segment_and_shuffle(data, segment_size=100000) #this function cuts the data file into segments and mixes them. This allows for a new set of noise every simulation (len of data points: 2,098,176)"
   ],
   "metadata": {
    "collapsed": false,
    "ExecuteTime": {
     "start_time": "2024-09-01T15:17:19.079810Z",
     "end_time": "2024-09-01T15:17:22.799432Z"
    }
   }
  },
  {
   "cell_type": "code",
   "execution_count": 14,
   "outputs": [
    {
     "name": "stdout",
     "output_type": "stream",
     "text": [
      "Done!\n"
     ]
    }
   ],
   "source": [
    "\"\"\"Compiler \"\"\"\n",
    "\n",
    "t_axis = np.array([0]) #This is the general time axis that is common for all channels\n",
    "threshold_list=np.ones(n_of_plots) * COMMON_THRESHOLD\n",
    "pulse_amplitudes, wave_counts, pulse_existence= [], [], []  #the conditions that help track the progression of the signals using the classes\n",
    "\n",
    "for i in range(n_of_plots): #this creates elements from the classes to keep track of the progression of the waveforms\n",
    "\n",
    "    pulse_amplitudes.append([WaveAmplitude() for i in range(SUPERPOSITION_FACTOR)])\n",
    "    wave_counts.append([WaveProgression() for i in range(SUPERPOSITION_FACTOR)])\n",
    "    pulse_existence.append([PulseExistence() for i in range(SUPERPOSITION_FACTOR)])\n",
    "\n",
    "#L_2_3_4_states and L_1_states are lists that hold the binary values for the trigger L states\n",
    "L_2_3_4_states=[np.array([]) for i in range(7)]  #the magic number 7 is for all (4: L2 triggers) + (2: L3 triggers) + (1: L4 triggers)\n",
    "L_1_states= [np.array([]) for i in range (n_of_plots)]\n",
    "\n",
    "signals= [np.array([0]) for i in range (n_of_plots)] #generate empty arrays for the different channels\n",
    "\n",
    "\"\"\"Defining Noise\"\"\"\n",
    "Noise_Mean_List=np.ones(n_of_plots) * NOISE_MEAN\n",
    "Noise_STD_List=np.ones(n_of_plots) * NOISE_STD_DEV\n",
    "\n",
    "Real_noise_index= [WaveProgression() for i in range(n_of_plots)] #this is to keep track of the index of the noise point from the real ARA data\n",
    "noise_ara_data=segment_and_shuffle(noise_ara_data, segment_size=100000)\n",
    "\n",
    "\n",
    "\n",
    "envelopes=[] #generate empty arrays for the different channels\n",
    "for i in range(n_of_plots):\n",
    "    envelopes.append(np.array([0 for i in range(ENVELOPE_RANGE//2-1)]))\n",
    "\n",
    "#while True:\n",
    "for i in range( PLOT_SIZE * graph_count ): #choosing the number of plots to plot, replace by \"while Tru\"e to keep going until stopped\n",
    "\n",
    "    t_axis= smart_append(t_axis, t_axis, t_axis[-1]+(1/FREQUENCY), max_size) #    adds +time to time each cycle, and limits the len(t_axis) to max_size\n",
    "\n",
    "\n",
    "    for n in range(n_of_plots): #this generates signals for the different channels\n",
    "        new_data_point = signal_generator(noise_mode,Real_noise_index[n],noise_ara_data[n],Noise_Mean_List[n], noise_ara_data[n], pulse_existence[n], wave_counts[n], pulse_amplitudes[n], PULSE_LIKELIHOOD, SUPERPOSITION_FACTOR, PULSE_DURATION)\n",
    "        signals[n] = smart_append(t_axis, signals[n], new_data_point, max_size)\n",
    "\n",
    "        if len(signals[n])>=ENVELOPE_RANGE:\n",
    "            envelope_point=envelope(signals[n],ENVELOPE_RANGE)\n",
    "            envelopes[n]=smart_append(t_axis, envelopes[n], envelope_point, max_size)\n",
    "        \n",
    "    #there are two blocks of code in here\n",
    "    \"\"\"\n",
    "    #block 1 for plotting L2 - L4 states\n",
    "    # comment out the block needed for the desired trigger plots, also choose to save or show the plots\n",
    "    L_states=L_Triggers(envelopes, L1, L1_counters, threshold_list, DELAY_PERIOD,L2,L2_level,L3,L4, Groups)\n",
    "\n",
    "\n",
    "    for i in range (7):\n",
    "        L_2_3_4_states[i]=smart_append(t_axis,L_2_3_4_states[i],L_states[i],max_size)\n",
    "    #plot_L_states(t_axis,L_2_3_4_states, L_name, PLOT_SIZE,graph_state,graph_save_name )\n",
    "    \"\"\"\n",
    "\n",
    "    #block 2 for plotting only L1 states\n",
    "    L1s=L1_Triggers_returns(signals, L1, L1_counters, threshold_list, DELAY_PERIOD)\n",
    "\n",
    "    for i in range (16):\n",
    "        L_1_states[i]=smart_append(t_axis,L_1_states[i],L1s[i],max_size)\n",
    "\n",
    "    #plot_L_states(t_axis,L_1_states, L1_names, PLOT_SIZE,graph_state,graph_save_name)\n",
    "\n",
    "\n",
    "    \"\"\"if there are some issues with the trigger, go back to the cell where L1, L2, L3 and L4 are defined and reset them\"\"\"\n",
    "\n",
    "\n",
    "    \"\"\"these functions displays the waveforms\"\"\"\n",
    "    #display_n_plots(t_axis, signals, PLOT_SIZE) #function to plot the channels\n",
    "    display_n_plots_envelope(t_axis,signals,COMMON_THRESHOLD,PLOT_SIZE,envelopes,PLOT_Y_LIMS,ENVELOPE_RANGE)\n",
    "\n",
    "    time.sleep(0.000001) #delay condition to help prevent oveloading the processor/ not sure how helpful this is\n",
    "\n",
    "print(\"Done!\")\n"
   ],
   "metadata": {
    "collapsed": false,
    "ExecuteTime": {
     "start_time": "2024-09-01T15:17:22.808401Z",
     "end_time": "2024-09-01T15:17:27.206397Z"
    }
   }
  },
  {
   "cell_type": "code",
   "execution_count": 20,
   "outputs": [
    {
     "name": "stdout",
     "output_type": "stream",
     "text": [
      "16 3000 [0. 0. 0. 0. 0. 0. 0. 0. 0. 0. 0. 0. 0. 0. 0. 0. 0. 0. 0. 0.]\n",
      "3001\n"
     ]
    }
   ],
   "source": [
    "print(len(L_1_states),len(L_1_states[5]),L_1_states[5] [:20])\n",
    "print(len (signals[0]))"
   ],
   "metadata": {
    "collapsed": false,
    "ExecuteTime": {
     "start_time": "2024-09-01T15:20:13.301553Z",
     "end_time": "2024-09-01T15:20:13.318552Z"
    }
   }
  },
  {
   "cell_type": "code",
   "execution_count": null,
   "outputs": [],
   "source": [],
   "metadata": {
    "collapsed": false,
    "ExecuteTime": {
     "start_time": "2024-09-04T23:42:09.055687Z",
     "end_time": "2024-09-04T23:42:09.167688Z"
    }
   }
  },
  {
   "cell_type": "code",
   "execution_count": null,
   "outputs": [],
   "source": [],
   "metadata": {
    "collapsed": false
   }
  }
 ],
 "metadata": {
  "kernelspec": {
   "display_name": "Python 3",
   "language": "python",
   "name": "python3"
  },
  "language_info": {
   "codemirror_mode": {
    "name": "ipython",
    "version": 2
   },
   "file_extension": ".py",
   "mimetype": "text/x-python",
   "name": "python",
   "nbconvert_exporter": "python",
   "pygments_lexer": "ipython2",
   "version": "2.7.6"
  }
 },
 "nbformat": 4,
 "nbformat_minor": 0
}
